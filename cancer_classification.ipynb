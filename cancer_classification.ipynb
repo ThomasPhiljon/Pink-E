{
  "nbformat": 4,
  "nbformat_minor": 0,
  "metadata": {
    "colab": {
      "name": "cancer_classification.ipynb",
      "provenance": [],
      "collapsed_sections": []
    },
    "kernelspec": {
      "name": "python3",
      "display_name": "Python 3"
    }
  },
  "cells": [
    {
      "cell_type": "code",
      "metadata": {
        "id": "vDyCM16dWozB"
      },
      "source": [
        "import pandas as pd\n",
        "import numpy as np\n",
        "import matplotlib.pyplot as plt\n",
        "import seaborn as sns\n",
        "\n",
        "from sklearn.model_selection import train_test_split"
      ],
      "execution_count": 107,
      "outputs": []
    },
    {
      "cell_type": "code",
      "metadata": {
        "id": "N0ug5Qw1W9Yg"
      },
      "source": [
        "filepath = \"./cancer/cancerData-complete.csv\""
      ],
      "execution_count": 108,
      "outputs": []
    },
    {
      "cell_type": "code",
      "metadata": {
        "id": "I24vSsSgXEk4"
      },
      "source": [
        "df = pd.read_csv(filepath, encoding = 'ISO-8859-1')"
      ],
      "execution_count": 109,
      "outputs": []
    },
    {
      "cell_type": "code",
      "metadata": {
        "id": "8STHPouUaMAa",
        "outputId": "9a328b91-4018-48c6-881d-aa8450cd627a",
        "colab": {
          "base_uri": "https://localhost:8080/",
          "height": 383
        }
      },
      "source": [
        "df.sample(10)"
      ],
      "execution_count": 110,
      "outputs": [
        {
          "output_type": "execute_result",
          "data": {
            "text/html": [
              "<div>\n",
              "<style scoped>\n",
              "    .dataframe tbody tr th:only-of-type {\n",
              "        vertical-align: middle;\n",
              "    }\n",
              "\n",
              "    .dataframe tbody tr th {\n",
              "        vertical-align: top;\n",
              "    }\n",
              "\n",
              "    .dataframe thead th {\n",
              "        text-align: right;\n",
              "    }\n",
              "</style>\n",
              "<table border=\"1\" class=\"dataframe\">\n",
              "  <thead>\n",
              "    <tr style=\"text-align: right;\">\n",
              "      <th></th>\n",
              "      <th>gender</th>\n",
              "      <th>breastCancer</th>\n",
              "      <th>age</th>\n",
              "      <th>ever_married</th>\n",
              "      <th>work_type</th>\n",
              "      <th>residence_type</th>\n",
              "      <th>pollution (ppm)</th>\n",
              "      <th>humidity</th>\n",
              "      <th>smoking_status</th>\n",
              "      <th>location</th>\n",
              "      <th>temprature</th>\n",
              "      <th>longitude</th>\n",
              "      <th>latitude</th>\n",
              "    </tr>\n",
              "  </thead>\n",
              "  <tbody>\n",
              "    <tr>\n",
              "      <th>15225</th>\n",
              "      <td>Female</td>\n",
              "      <td>0</td>\n",
              "      <td>23</td>\n",
              "      <td>No</td>\n",
              "      <td>Private</td>\n",
              "      <td>Urban</td>\n",
              "      <td>89.26</td>\n",
              "      <td>38.8</td>\n",
              "      <td>never smoked</td>\n",
              "      <td>Amroha</td>\n",
              "      <td>24.807978</td>\n",
              "      <td>28.13</td>\n",
              "      <td>79.09</td>\n",
              "    </tr>\n",
              "    <tr>\n",
              "      <th>22368</th>\n",
              "      <td>Female</td>\n",
              "      <td>0</td>\n",
              "      <td>59</td>\n",
              "      <td>Yes</td>\n",
              "      <td>Govt_job</td>\n",
              "      <td>Rural</td>\n",
              "      <td>70.10</td>\n",
              "      <td>37.2</td>\n",
              "      <td>never smoked</td>\n",
              "      <td>Ambala</td>\n",
              "      <td>23.159538</td>\n",
              "      <td>29.74</td>\n",
              "      <td>77.54</td>\n",
              "    </tr>\n",
              "    <tr>\n",
              "      <th>25563</th>\n",
              "      <td>Female</td>\n",
              "      <td>0</td>\n",
              "      <td>29</td>\n",
              "      <td>No</td>\n",
              "      <td>Govt_job</td>\n",
              "      <td>Urban</td>\n",
              "      <td>65.02</td>\n",
              "      <td>20.6</td>\n",
              "      <td>never smoked</td>\n",
              "      <td>Alappuzha</td>\n",
              "      <td>26.298882</td>\n",
              "      <td>8.84</td>\n",
              "      <td>77.03</td>\n",
              "    </tr>\n",
              "    <tr>\n",
              "      <th>6400</th>\n",
              "      <td>Female</td>\n",
              "      <td>0</td>\n",
              "      <td>70</td>\n",
              "      <td>Yes</td>\n",
              "      <td>Self-employed</td>\n",
              "      <td>Rural</td>\n",
              "      <td>88.73</td>\n",
              "      <td>35.1</td>\n",
              "      <td>never smoked</td>\n",
              "      <td>Bhadravati</td>\n",
              "      <td>25.324728</td>\n",
              "      <td>13.66</td>\n",
              "      <td>75.14</td>\n",
              "    </tr>\n",
              "    <tr>\n",
              "      <th>3454</th>\n",
              "      <td>Female</td>\n",
              "      <td>0</td>\n",
              "      <td>21</td>\n",
              "      <td>No</td>\n",
              "      <td>Private</td>\n",
              "      <td>Rural</td>\n",
              "      <td>82.48</td>\n",
              "      <td>26.0</td>\n",
              "      <td>never smoked</td>\n",
              "      <td>Bhilai</td>\n",
              "      <td>26.000307</td>\n",
              "      <td>21.70</td>\n",
              "      <td>82.21</td>\n",
              "    </tr>\n",
              "    <tr>\n",
              "      <th>23774</th>\n",
              "      <td>Female</td>\n",
              "      <td>1</td>\n",
              "      <td>44</td>\n",
              "      <td>Yes</td>\n",
              "      <td>Private</td>\n",
              "      <td>Urban</td>\n",
              "      <td>217.86</td>\n",
              "      <td>39.7</td>\n",
              "      <td>never smoked</td>\n",
              "      <td>Agartala</td>\n",
              "      <td>24.913291</td>\n",
              "      <td>23.31</td>\n",
              "      <td>91.75</td>\n",
              "    </tr>\n",
              "    <tr>\n",
              "      <th>5398</th>\n",
              "      <td>Female</td>\n",
              "      <td>1</td>\n",
              "      <td>65</td>\n",
              "      <td>Yes</td>\n",
              "      <td>Private</td>\n",
              "      <td>Rural</td>\n",
              "      <td>97.36</td>\n",
              "      <td>37.2</td>\n",
              "      <td>formerly smoked</td>\n",
              "      <td>Agra</td>\n",
              "      <td>25.207319</td>\n",
              "      <td>26.52</td>\n",
              "      <td>78.81</td>\n",
              "    </tr>\n",
              "    <tr>\n",
              "      <th>23927</th>\n",
              "      <td>Female</td>\n",
              "      <td>0</td>\n",
              "      <td>64</td>\n",
              "      <td>Yes</td>\n",
              "      <td>Private</td>\n",
              "      <td>Urban</td>\n",
              "      <td>81.67</td>\n",
              "      <td>35.9</td>\n",
              "      <td>formerly smoked</td>\n",
              "      <td>Akola</td>\n",
              "      <td>26.566451</td>\n",
              "      <td>20.09</td>\n",
              "      <td>76.78</td>\n",
              "    </tr>\n",
              "    <tr>\n",
              "      <th>6281</th>\n",
              "      <td>Female</td>\n",
              "      <td>1</td>\n",
              "      <td>40</td>\n",
              "      <td>Yes</td>\n",
              "      <td>Private</td>\n",
              "      <td>Urban</td>\n",
              "      <td>79.04</td>\n",
              "      <td>33.0</td>\n",
              "      <td>smokes</td>\n",
              "      <td>Bally</td>\n",
              "      <td>26.042152</td>\n",
              "      <td>23.31</td>\n",
              "      <td>88.25</td>\n",
              "    </tr>\n",
              "    <tr>\n",
              "      <th>14623</th>\n",
              "      <td>Female</td>\n",
              "      <td>0</td>\n",
              "      <td>56</td>\n",
              "      <td>Yes</td>\n",
              "      <td>Self-employed</td>\n",
              "      <td>Rural</td>\n",
              "      <td>77.32</td>\n",
              "      <td>22.2</td>\n",
              "      <td>never smoked</td>\n",
              "      <td>Bally</td>\n",
              "      <td>26.042152</td>\n",
              "      <td>23.31</td>\n",
              "      <td>88.25</td>\n",
              "    </tr>\n",
              "  </tbody>\n",
              "</table>\n",
              "</div>"
            ],
            "text/plain": [
              "       gender  breastCancer  age  ... temprature longitude latitude\n",
              "15225  Female             0   23  ...  24.807978     28.13    79.09\n",
              "22368  Female             0   59  ...  23.159538     29.74    77.54\n",
              "25563  Female             0   29  ...  26.298882      8.84    77.03\n",
              "6400   Female             0   70  ...  25.324728     13.66    75.14\n",
              "3454   Female             0   21  ...  26.000307     21.70    82.21\n",
              "23774  Female             1   44  ...  24.913291     23.31    91.75\n",
              "5398   Female             1   65  ...  25.207319     26.52    78.81\n",
              "23927  Female             0   64  ...  26.566451     20.09    76.78\n",
              "6281   Female             1   40  ...  26.042152     23.31    88.25\n",
              "14623  Female             0   56  ...  26.042152     23.31    88.25\n",
              "\n",
              "[10 rows x 13 columns]"
            ]
          },
          "metadata": {
            "tags": []
          },
          "execution_count": 110
        }
      ]
    },
    {
      "cell_type": "code",
      "metadata": {
        "id": "jJHylte2XJPR",
        "outputId": "97d9e80f-821e-4023-d58a-0dc18de49ca0",
        "colab": {
          "base_uri": "https://localhost:8080/",
          "height": 33
        }
      },
      "source": [
        "df.shape"
      ],
      "execution_count": 111,
      "outputs": [
        {
          "output_type": "execute_result",
          "data": {
            "text/plain": [
              "(29065, 13)"
            ]
          },
          "metadata": {
            "tags": []
          },
          "execution_count": 111
        }
      ]
    },
    {
      "cell_type": "code",
      "metadata": {
        "id": "kR3ijM74XR7q",
        "outputId": "22ed5cc9-307f-4153-d00f-a030c3fb68f4",
        "colab": {
          "base_uri": "https://localhost:8080/",
          "height": 277
        }
      },
      "source": [
        "df.describe()"
      ],
      "execution_count": 112,
      "outputs": [
        {
          "output_type": "execute_result",
          "data": {
            "text/html": [
              "<div>\n",
              "<style scoped>\n",
              "    .dataframe tbody tr th:only-of-type {\n",
              "        vertical-align: middle;\n",
              "    }\n",
              "\n",
              "    .dataframe tbody tr th {\n",
              "        vertical-align: top;\n",
              "    }\n",
              "\n",
              "    .dataframe thead th {\n",
              "        text-align: right;\n",
              "    }\n",
              "</style>\n",
              "<table border=\"1\" class=\"dataframe\">\n",
              "  <thead>\n",
              "    <tr style=\"text-align: right;\">\n",
              "      <th></th>\n",
              "      <th>breastCancer</th>\n",
              "      <th>age</th>\n",
              "      <th>pollution (ppm)</th>\n",
              "      <th>humidity</th>\n",
              "      <th>temprature</th>\n",
              "      <th>longitude</th>\n",
              "      <th>latitude</th>\n",
              "    </tr>\n",
              "  </thead>\n",
              "  <tbody>\n",
              "    <tr>\n",
              "      <th>count</th>\n",
              "      <td>29065.000000</td>\n",
              "      <td>29065.000000</td>\n",
              "      <td>29065.000000</td>\n",
              "      <td>29065.000000</td>\n",
              "      <td>29065.000000</td>\n",
              "      <td>29065.000000</td>\n",
              "      <td>29065.000000</td>\n",
              "    </tr>\n",
              "    <tr>\n",
              "      <th>mean</th>\n",
              "      <td>0.177051</td>\n",
              "      <td>47.676174</td>\n",
              "      <td>106.405639</td>\n",
              "      <td>30.054684</td>\n",
              "      <td>25.743985</td>\n",
              "      <td>22.546995</td>\n",
              "      <td>80.258400</td>\n",
              "    </tr>\n",
              "    <tr>\n",
              "      <th>std</th>\n",
              "      <td>0.381719</td>\n",
              "      <td>18.732941</td>\n",
              "      <td>45.272453</td>\n",
              "      <td>7.193951</td>\n",
              "      <td>1.048304</td>\n",
              "      <td>4.742676</td>\n",
              "      <td>5.703334</td>\n",
              "    </tr>\n",
              "    <tr>\n",
              "      <th>min</th>\n",
              "      <td>0.000000</td>\n",
              "      <td>10.000000</td>\n",
              "      <td>55.010000</td>\n",
              "      <td>10.100000</td>\n",
              "      <td>22.831123</td>\n",
              "      <td>8.840000</td>\n",
              "      <td>69.030000</td>\n",
              "    </tr>\n",
              "    <tr>\n",
              "      <th>25%</th>\n",
              "      <td>0.000000</td>\n",
              "      <td>32.000000</td>\n",
              "      <td>77.630000</td>\n",
              "      <td>25.000000</td>\n",
              "      <td>25.152420</td>\n",
              "      <td>20.090000</td>\n",
              "      <td>75.390000</td>\n",
              "    </tr>\n",
              "    <tr>\n",
              "      <th>50%</th>\n",
              "      <td>0.000000</td>\n",
              "      <td>48.000000</td>\n",
              "      <td>92.130000</td>\n",
              "      <td>28.900000</td>\n",
              "      <td>25.829766</td>\n",
              "      <td>23.310000</td>\n",
              "      <td>78.810000</td>\n",
              "    </tr>\n",
              "    <tr>\n",
              "      <th>75%</th>\n",
              "      <td>0.000000</td>\n",
              "      <td>62.000000</td>\n",
              "      <td>113.910000</td>\n",
              "      <td>33.900000</td>\n",
              "      <td>26.281198</td>\n",
              "      <td>26.520000</td>\n",
              "      <td>86.500000</td>\n",
              "    </tr>\n",
              "    <tr>\n",
              "      <th>max</th>\n",
              "      <td>1.000000</td>\n",
              "      <td>82.000000</td>\n",
              "      <td>291.050000</td>\n",
              "      <td>92.000000</td>\n",
              "      <td>28.417858</td>\n",
              "      <td>31.350000</td>\n",
              "      <td>93.500000</td>\n",
              "    </tr>\n",
              "  </tbody>\n",
              "</table>\n",
              "</div>"
            ],
            "text/plain": [
              "       breastCancer           age  ...     longitude      latitude\n",
              "count  29065.000000  29065.000000  ...  29065.000000  29065.000000\n",
              "mean       0.177051     47.676174  ...     22.546995     80.258400\n",
              "std        0.381719     18.732941  ...      4.742676      5.703334\n",
              "min        0.000000     10.000000  ...      8.840000     69.030000\n",
              "25%        0.000000     32.000000  ...     20.090000     75.390000\n",
              "50%        0.000000     48.000000  ...     23.310000     78.810000\n",
              "75%        0.000000     62.000000  ...     26.520000     86.500000\n",
              "max        1.000000     82.000000  ...     31.350000     93.500000\n",
              "\n",
              "[8 rows x 7 columns]"
            ]
          },
          "metadata": {
            "tags": []
          },
          "execution_count": 112
        }
      ]
    },
    {
      "cell_type": "code",
      "metadata": {
        "id": "g3B1_flXXTlb",
        "outputId": "bddba8f8-7968-4627-fdff-2ed4a0841d7a",
        "colab": {
          "base_uri": "https://localhost:8080/",
          "height": 82
        }
      },
      "source": [
        "df.columns"
      ],
      "execution_count": 113,
      "outputs": [
        {
          "output_type": "execute_result",
          "data": {
            "text/plain": [
              "Index(['gender', 'breastCancer', 'age', 'ever_married', 'work_type',\n",
              "       'residence_type', 'pollution (ppm)', 'humidity', 'smoking_status',\n",
              "       'location', 'temprature', 'longitude', 'latitude'],\n",
              "      dtype='object')"
            ]
          },
          "metadata": {
            "tags": []
          },
          "execution_count": 113
        }
      ]
    },
    {
      "cell_type": "code",
      "metadata": {
        "id": "uW0o7EKWXWSR"
      },
      "source": [
        "#df.apply(lambda x: func(x['col1'],x['col2']),axis=1)\n",
        "df[\"ever_married_en\"]=df[\"ever_married\"].apply(lambda x: 1 if x == 'Yes' else 0)\n",
        "df[\"residence_en\"]=df[\"residence_type\"].apply(lambda x: 1 if x == 'Urban' else 0)"
      ],
      "execution_count": 114,
      "outputs": []
    },
    {
      "cell_type": "code",
      "metadata": {
        "id": "jNNAgcwlXZIO"
      },
      "source": [
        "smoke_status = (df.groupby('smoking_status').size()) / len(df)\n",
        "df['smoke_status_encode'] = df['smoking_status'].apply(lambda x : smoke_status[x])"
      ],
      "execution_count": 115,
      "outputs": []
    },
    {
      "cell_type": "code",
      "metadata": {
        "id": "ZoDq99Y8Xbd9"
      },
      "source": [
        "cols_to_be_Removed = ['gender','ever_married','work_type','smoking_status','residence_type','location','longitude','latitude']\n",
        "df=df.drop(cols_to_be_Removed,axis=1)"
      ],
      "execution_count": 116,
      "outputs": []
    },
    {
      "cell_type": "code",
      "metadata": {
        "id": "smnqAx_gXdmH",
        "outputId": "dc8d2516-0dad-44d3-b1f3-7c2c3dfb5cc5",
        "colab": {
          "base_uri": "https://localhost:8080/",
          "height": 176
        }
      },
      "source": [
        "corr= df.corr()\n",
        "corr.style.background_gradient(cmap='coolwarm')"
      ],
      "execution_count": 117,
      "outputs": [
        {
          "output_type": "execute_result",
          "data": {
            "text/html": [
              "<style  type=\"text/css\" >\n",
              "#T_f1e7053e_06ea_11eb_bb39_0242ac1c0002row0_col0,#T_f1e7053e_06ea_11eb_bb39_0242ac1c0002row1_col1,#T_f1e7053e_06ea_11eb_bb39_0242ac1c0002row2_col2,#T_f1e7053e_06ea_11eb_bb39_0242ac1c0002row3_col3,#T_f1e7053e_06ea_11eb_bb39_0242ac1c0002row4_col4,#T_f1e7053e_06ea_11eb_bb39_0242ac1c0002row5_col5,#T_f1e7053e_06ea_11eb_bb39_0242ac1c0002row6_col6,#T_f1e7053e_06ea_11eb_bb39_0242ac1c0002row7_col7{\n",
              "            background-color:  #b40426;\n",
              "            color:  #f1f1f1;\n",
              "        }#T_f1e7053e_06ea_11eb_bb39_0242ac1c0002row0_col1{\n",
              "            background-color:  #a1c0ff;\n",
              "            color:  #000000;\n",
              "        }#T_f1e7053e_06ea_11eb_bb39_0242ac1c0002row0_col2{\n",
              "            background-color:  #e4d9d2;\n",
              "            color:  #000000;\n",
              "        }#T_f1e7053e_06ea_11eb_bb39_0242ac1c0002row0_col3{\n",
              "            background-color:  #98b9ff;\n",
              "            color:  #000000;\n",
              "        }#T_f1e7053e_06ea_11eb_bb39_0242ac1c0002row0_col4,#T_f1e7053e_06ea_11eb_bb39_0242ac1c0002row1_col4{\n",
              "            background-color:  #3c4ec2;\n",
              "            color:  #f1f1f1;\n",
              "        }#T_f1e7053e_06ea_11eb_bb39_0242ac1c0002row0_col5,#T_f1e7053e_06ea_11eb_bb39_0242ac1c0002row2_col5{\n",
              "            background-color:  #7a9df8;\n",
              "            color:  #000000;\n",
              "        }#T_f1e7053e_06ea_11eb_bb39_0242ac1c0002row0_col6,#T_f1e7053e_06ea_11eb_bb39_0242ac1c0002row5_col7{\n",
              "            background-color:  #6e90f2;\n",
              "            color:  #000000;\n",
              "        }#T_f1e7053e_06ea_11eb_bb39_0242ac1c0002row0_col7,#T_f1e7053e_06ea_11eb_bb39_0242ac1c0002row2_col4,#T_f1e7053e_06ea_11eb_bb39_0242ac1c0002row5_col4,#T_f1e7053e_06ea_11eb_bb39_0242ac1c0002row7_col0,#T_f1e7053e_06ea_11eb_bb39_0242ac1c0002row7_col1,#T_f1e7053e_06ea_11eb_bb39_0242ac1c0002row7_col2,#T_f1e7053e_06ea_11eb_bb39_0242ac1c0002row7_col3,#T_f1e7053e_06ea_11eb_bb39_0242ac1c0002row7_col4,#T_f1e7053e_06ea_11eb_bb39_0242ac1c0002row7_col5,#T_f1e7053e_06ea_11eb_bb39_0242ac1c0002row7_col6{\n",
              "            background-color:  #3b4cc0;\n",
              "            color:  #f1f1f1;\n",
              "        }#T_f1e7053e_06ea_11eb_bb39_0242ac1c0002row1_col0{\n",
              "            background-color:  #bfd3f6;\n",
              "            color:  #000000;\n",
              "        }#T_f1e7053e_06ea_11eb_bb39_0242ac1c0002row1_col2{\n",
              "            background-color:  #9bbcff;\n",
              "            color:  #000000;\n",
              "        }#T_f1e7053e_06ea_11eb_bb39_0242ac1c0002row1_col3{\n",
              "            background-color:  #7597f6;\n",
              "            color:  #000000;\n",
              "        }#T_f1e7053e_06ea_11eb_bb39_0242ac1c0002row1_col5{\n",
              "            background-color:  #f0cdbb;\n",
              "            color:  #000000;\n",
              "        }#T_f1e7053e_06ea_11eb_bb39_0242ac1c0002row1_col6,#T_f1e7053e_06ea_11eb_bb39_0242ac1c0002row4_col6,#T_f1e7053e_06ea_11eb_bb39_0242ac1c0002row5_col6{\n",
              "            background-color:  #4b64d5;\n",
              "            color:  #f1f1f1;\n",
              "        }#T_f1e7053e_06ea_11eb_bb39_0242ac1c0002row1_col7{\n",
              "            background-color:  #6384eb;\n",
              "            color:  #000000;\n",
              "        }#T_f1e7053e_06ea_11eb_bb39_0242ac1c0002row2_col0{\n",
              "            background-color:  #f3c8b2;\n",
              "            color:  #000000;\n",
              "        }#T_f1e7053e_06ea_11eb_bb39_0242ac1c0002row2_col1{\n",
              "            background-color:  #a5c3fe;\n",
              "            color:  #000000;\n",
              "        }#T_f1e7053e_06ea_11eb_bb39_0242ac1c0002row2_col3{\n",
              "            background-color:  #8caffe;\n",
              "            color:  #000000;\n",
              "        }#T_f1e7053e_06ea_11eb_bb39_0242ac1c0002row2_col6,#T_f1e7053e_06ea_11eb_bb39_0242ac1c0002row3_col6{\n",
              "            background-color:  #4961d2;\n",
              "            color:  #f1f1f1;\n",
              "        }#T_f1e7053e_06ea_11eb_bb39_0242ac1c0002row2_col7{\n",
              "            background-color:  #7093f3;\n",
              "            color:  #000000;\n",
              "        }#T_f1e7053e_06ea_11eb_bb39_0242ac1c0002row3_col0{\n",
              "            background-color:  #c0d4f5;\n",
              "            color:  #000000;\n",
              "        }#T_f1e7053e_06ea_11eb_bb39_0242ac1c0002row3_col1{\n",
              "            background-color:  #80a3fa;\n",
              "            color:  #000000;\n",
              "        }#T_f1e7053e_06ea_11eb_bb39_0242ac1c0002row3_col2{\n",
              "            background-color:  #8badfd;\n",
              "            color:  #000000;\n",
              "        }#T_f1e7053e_06ea_11eb_bb39_0242ac1c0002row3_col4,#T_f1e7053e_06ea_11eb_bb39_0242ac1c0002row6_col4{\n",
              "            background-color:  #3d50c3;\n",
              "            color:  #f1f1f1;\n",
              "        }#T_f1e7053e_06ea_11eb_bb39_0242ac1c0002row3_col5{\n",
              "            background-color:  #82a6fb;\n",
              "            color:  #000000;\n",
              "        }#T_f1e7053e_06ea_11eb_bb39_0242ac1c0002row3_col7{\n",
              "            background-color:  #6f92f3;\n",
              "            color:  #000000;\n",
              "        }#T_f1e7053e_06ea_11eb_bb39_0242ac1c0002row4_col0{\n",
              "            background-color:  #88abfd;\n",
              "            color:  #000000;\n",
              "        }#T_f1e7053e_06ea_11eb_bb39_0242ac1c0002row4_col1,#T_f1e7053e_06ea_11eb_bb39_0242ac1c0002row6_col1{\n",
              "            background-color:  #6180e9;\n",
              "            color:  #000000;\n",
              "        }#T_f1e7053e_06ea_11eb_bb39_0242ac1c0002row4_col2,#T_f1e7053e_06ea_11eb_bb39_0242ac1c0002row6_col2{\n",
              "            background-color:  #516ddb;\n",
              "            color:  #000000;\n",
              "        }#T_f1e7053e_06ea_11eb_bb39_0242ac1c0002row4_col3,#T_f1e7053e_06ea_11eb_bb39_0242ac1c0002row6_col5{\n",
              "            background-color:  #5673e0;\n",
              "            color:  #000000;\n",
              "        }#T_f1e7053e_06ea_11eb_bb39_0242ac1c0002row4_col5{\n",
              "            background-color:  #5572df;\n",
              "            color:  #000000;\n",
              "        }#T_f1e7053e_06ea_11eb_bb39_0242ac1c0002row4_col7{\n",
              "            background-color:  #86a9fc;\n",
              "            color:  #000000;\n",
              "        }#T_f1e7053e_06ea_11eb_bb39_0242ac1c0002row5_col0{\n",
              "            background-color:  #a7c5fe;\n",
              "            color:  #000000;\n",
              "        }#T_f1e7053e_06ea_11eb_bb39_0242ac1c0002row5_col1{\n",
              "            background-color:  #f2cbb7;\n",
              "            color:  #000000;\n",
              "        }#T_f1e7053e_06ea_11eb_bb39_0242ac1c0002row5_col2{\n",
              "            background-color:  #779af7;\n",
              "            color:  #000000;\n",
              "        }#T_f1e7053e_06ea_11eb_bb39_0242ac1c0002row5_col3{\n",
              "            background-color:  #81a4fb;\n",
              "            color:  #000000;\n",
              "        }#T_f1e7053e_06ea_11eb_bb39_0242ac1c0002row6_col0{\n",
              "            background-color:  #a6c4fe;\n",
              "            color:  #000000;\n",
              "        }#T_f1e7053e_06ea_11eb_bb39_0242ac1c0002row6_col3{\n",
              "            background-color:  #5470de;\n",
              "            color:  #000000;\n",
              "        }#T_f1e7053e_06ea_11eb_bb39_0242ac1c0002row6_col7{\n",
              "            background-color:  #799cf8;\n",
              "            color:  #000000;\n",
              "        }</style><table id=\"T_f1e7053e_06ea_11eb_bb39_0242ac1c0002\" ><thead>    <tr>        <th class=\"blank level0\" ></th>        <th class=\"col_heading level0 col0\" >breastCancer</th>        <th class=\"col_heading level0 col1\" >age</th>        <th class=\"col_heading level0 col2\" >pollution (ppm)</th>        <th class=\"col_heading level0 col3\" >humidity</th>        <th class=\"col_heading level0 col4\" >temprature</th>        <th class=\"col_heading level0 col5\" >ever_married_en</th>        <th class=\"col_heading level0 col6\" >residence_en</th>        <th class=\"col_heading level0 col7\" >smoke_status_encode</th>    </tr></thead><tbody>\n",
              "                <tr>\n",
              "                        <th id=\"T_f1e7053e_06ea_11eb_bb39_0242ac1c0002level0_row0\" class=\"row_heading level0 row0\" >breastCancer</th>\n",
              "                        <td id=\"T_f1e7053e_06ea_11eb_bb39_0242ac1c0002row0_col0\" class=\"data row0 col0\" >1.000000</td>\n",
              "                        <td id=\"T_f1e7053e_06ea_11eb_bb39_0242ac1c0002row0_col1\" class=\"data row0 col1\" >0.211980</td>\n",
              "                        <td id=\"T_f1e7053e_06ea_11eb_bb39_0242ac1c0002row0_col2\" class=\"data row0 col2\" >0.490098</td>\n",
              "                        <td id=\"T_f1e7053e_06ea_11eb_bb39_0242ac1c0002row0_col3\" class=\"data row0 col3\" >0.217722</td>\n",
              "                        <td id=\"T_f1e7053e_06ea_11eb_bb39_0242ac1c0002row0_col4\" class=\"data row0 col4\" >0.000833</td>\n",
              "                        <td id=\"T_f1e7053e_06ea_11eb_bb39_0242ac1c0002row0_col5\" class=\"data row0 col5\" >0.119353</td>\n",
              "                        <td id=\"T_f1e7053e_06ea_11eb_bb39_0242ac1c0002row0_col6\" class=\"data row0 col6\" >0.115097</td>\n",
              "                        <td id=\"T_f1e7053e_06ea_11eb_bb39_0242ac1c0002row0_col7\" class=\"data row0 col7\" >-0.307802</td>\n",
              "            </tr>\n",
              "            <tr>\n",
              "                        <th id=\"T_f1e7053e_06ea_11eb_bb39_0242ac1c0002level0_row1\" class=\"row_heading level0 row1\" >age</th>\n",
              "                        <td id=\"T_f1e7053e_06ea_11eb_bb39_0242ac1c0002row1_col0\" class=\"data row1 col0\" >0.211980</td>\n",
              "                        <td id=\"T_f1e7053e_06ea_11eb_bb39_0242ac1c0002row1_col1\" class=\"data row1 col1\" >1.000000</td>\n",
              "                        <td id=\"T_f1e7053e_06ea_11eb_bb39_0242ac1c0002row1_col2\" class=\"data row1 col2\" >0.228283</td>\n",
              "                        <td id=\"T_f1e7053e_06ea_11eb_bb39_0242ac1c0002row1_col3\" class=\"data row1 col3\" >0.106226</td>\n",
              "                        <td id=\"T_f1e7053e_06ea_11eb_bb39_0242ac1c0002row1_col4\" class=\"data row1 col4\" >0.002816</td>\n",
              "                        <td id=\"T_f1e7053e_06ea_11eb_bb39_0242ac1c0002row1_col5\" class=\"data row1 col5\" >0.547131</td>\n",
              "                        <td id=\"T_f1e7053e_06ea_11eb_bb39_0242ac1c0002row1_col6\" class=\"data row1 col6\" >0.003480</td>\n",
              "                        <td id=\"T_f1e7053e_06ea_11eb_bb39_0242ac1c0002row1_col7\" class=\"data row1 col7\" >-0.135340</td>\n",
              "            </tr>\n",
              "            <tr>\n",
              "                        <th id=\"T_f1e7053e_06ea_11eb_bb39_0242ac1c0002level0_row2\" class=\"row_heading level0 row2\" >pollution (ppm)</th>\n",
              "                        <td id=\"T_f1e7053e_06ea_11eb_bb39_0242ac1c0002row2_col0\" class=\"data row2 col0\" >0.490098</td>\n",
              "                        <td id=\"T_f1e7053e_06ea_11eb_bb39_0242ac1c0002row2_col1\" class=\"data row2 col1\" >0.228283</td>\n",
              "                        <td id=\"T_f1e7053e_06ea_11eb_bb39_0242ac1c0002row2_col2\" class=\"data row2 col2\" >1.000000</td>\n",
              "                        <td id=\"T_f1e7053e_06ea_11eb_bb39_0242ac1c0002row2_col3\" class=\"data row2 col3\" >0.176936</td>\n",
              "                        <td id=\"T_f1e7053e_06ea_11eb_bb39_0242ac1c0002row2_col4\" class=\"data row2 col4\" >-0.004399</td>\n",
              "                        <td id=\"T_f1e7053e_06ea_11eb_bb39_0242ac1c0002row2_col5\" class=\"data row2 col5\" >0.117362</td>\n",
              "                        <td id=\"T_f1e7053e_06ea_11eb_bb39_0242ac1c0002row2_col6\" class=\"data row2 col6\" >-0.002574</td>\n",
              "                        <td id=\"T_f1e7053e_06ea_11eb_bb39_0242ac1c0002row2_col7\" class=\"data row2 col7\" >-0.086646</td>\n",
              "            </tr>\n",
              "            <tr>\n",
              "                        <th id=\"T_f1e7053e_06ea_11eb_bb39_0242ac1c0002level0_row3\" class=\"row_heading level0 row3\" >humidity</th>\n",
              "                        <td id=\"T_f1e7053e_06ea_11eb_bb39_0242ac1c0002row3_col0\" class=\"data row3 col0\" >0.217722</td>\n",
              "                        <td id=\"T_f1e7053e_06ea_11eb_bb39_0242ac1c0002row3_col1\" class=\"data row3 col1\" >0.106226</td>\n",
              "                        <td id=\"T_f1e7053e_06ea_11eb_bb39_0242ac1c0002row3_col2\" class=\"data row3 col2\" >0.176936</td>\n",
              "                        <td id=\"T_f1e7053e_06ea_11eb_bb39_0242ac1c0002row3_col3\" class=\"data row3 col3\" >1.000000</td>\n",
              "                        <td id=\"T_f1e7053e_06ea_11eb_bb39_0242ac1c0002row3_col4\" class=\"data row3 col4\" >0.005937</td>\n",
              "                        <td id=\"T_f1e7053e_06ea_11eb_bb39_0242ac1c0002row3_col5\" class=\"data row3 col5\" >0.143129</td>\n",
              "                        <td id=\"T_f1e7053e_06ea_11eb_bb39_0242ac1c0002row3_col6\" class=\"data row3 col6\" >-0.002898</td>\n",
              "                        <td id=\"T_f1e7053e_06ea_11eb_bb39_0242ac1c0002row3_col7\" class=\"data row3 col7\" >-0.092753</td>\n",
              "            </tr>\n",
              "            <tr>\n",
              "                        <th id=\"T_f1e7053e_06ea_11eb_bb39_0242ac1c0002level0_row4\" class=\"row_heading level0 row4\" >temprature</th>\n",
              "                        <td id=\"T_f1e7053e_06ea_11eb_bb39_0242ac1c0002row4_col0\" class=\"data row4 col0\" >0.000833</td>\n",
              "                        <td id=\"T_f1e7053e_06ea_11eb_bb39_0242ac1c0002row4_col1\" class=\"data row4 col1\" >0.002816</td>\n",
              "                        <td id=\"T_f1e7053e_06ea_11eb_bb39_0242ac1c0002row4_col2\" class=\"data row4 col2\" >-0.004399</td>\n",
              "                        <td id=\"T_f1e7053e_06ea_11eb_bb39_0242ac1c0002row4_col3\" class=\"data row4 col3\" >0.005937</td>\n",
              "                        <td id=\"T_f1e7053e_06ea_11eb_bb39_0242ac1c0002row4_col4\" class=\"data row4 col4\" >1.000000</td>\n",
              "                        <td id=\"T_f1e7053e_06ea_11eb_bb39_0242ac1c0002row4_col5\" class=\"data row4 col5\" >-0.001503</td>\n",
              "                        <td id=\"T_f1e7053e_06ea_11eb_bb39_0242ac1c0002row4_col6\" class=\"data row4 col6\" >0.005362</td>\n",
              "                        <td id=\"T_f1e7053e_06ea_11eb_bb39_0242ac1c0002row4_col7\" class=\"data row4 col7\" >-0.001601</td>\n",
              "            </tr>\n",
              "            <tr>\n",
              "                        <th id=\"T_f1e7053e_06ea_11eb_bb39_0242ac1c0002level0_row5\" class=\"row_heading level0 row5\" >ever_married_en</th>\n",
              "                        <td id=\"T_f1e7053e_06ea_11eb_bb39_0242ac1c0002row5_col0\" class=\"data row5 col0\" >0.119353</td>\n",
              "                        <td id=\"T_f1e7053e_06ea_11eb_bb39_0242ac1c0002row5_col1\" class=\"data row5 col1\" >0.547131</td>\n",
              "                        <td id=\"T_f1e7053e_06ea_11eb_bb39_0242ac1c0002row5_col2\" class=\"data row5 col2\" >0.117362</td>\n",
              "                        <td id=\"T_f1e7053e_06ea_11eb_bb39_0242ac1c0002row5_col3\" class=\"data row5 col3\" >0.143129</td>\n",
              "                        <td id=\"T_f1e7053e_06ea_11eb_bb39_0242ac1c0002row5_col4\" class=\"data row5 col4\" >-0.001503</td>\n",
              "                        <td id=\"T_f1e7053e_06ea_11eb_bb39_0242ac1c0002row5_col5\" class=\"data row5 col5\" >1.000000</td>\n",
              "                        <td id=\"T_f1e7053e_06ea_11eb_bb39_0242ac1c0002row5_col6\" class=\"data row5 col6\" >0.004918</td>\n",
              "                        <td id=\"T_f1e7053e_06ea_11eb_bb39_0242ac1c0002row5_col7\" class=\"data row5 col7\" >-0.097128</td>\n",
              "            </tr>\n",
              "            <tr>\n",
              "                        <th id=\"T_f1e7053e_06ea_11eb_bb39_0242ac1c0002level0_row6\" class=\"row_heading level0 row6\" >residence_en</th>\n",
              "                        <td id=\"T_f1e7053e_06ea_11eb_bb39_0242ac1c0002row6_col0\" class=\"data row6 col0\" >0.115097</td>\n",
              "                        <td id=\"T_f1e7053e_06ea_11eb_bb39_0242ac1c0002row6_col1\" class=\"data row6 col1\" >0.003480</td>\n",
              "                        <td id=\"T_f1e7053e_06ea_11eb_bb39_0242ac1c0002row6_col2\" class=\"data row6 col2\" >-0.002574</td>\n",
              "                        <td id=\"T_f1e7053e_06ea_11eb_bb39_0242ac1c0002row6_col3\" class=\"data row6 col3\" >-0.002898</td>\n",
              "                        <td id=\"T_f1e7053e_06ea_11eb_bb39_0242ac1c0002row6_col4\" class=\"data row6 col4\" >0.005362</td>\n",
              "                        <td id=\"T_f1e7053e_06ea_11eb_bb39_0242ac1c0002row6_col5\" class=\"data row6 col5\" >0.004918</td>\n",
              "                        <td id=\"T_f1e7053e_06ea_11eb_bb39_0242ac1c0002row6_col6\" class=\"data row6 col6\" >1.000000</td>\n",
              "                        <td id=\"T_f1e7053e_06ea_11eb_bb39_0242ac1c0002row6_col7\" class=\"data row6 col7\" >-0.055060</td>\n",
              "            </tr>\n",
              "            <tr>\n",
              "                        <th id=\"T_f1e7053e_06ea_11eb_bb39_0242ac1c0002level0_row7\" class=\"row_heading level0 row7\" >smoke_status_encode</th>\n",
              "                        <td id=\"T_f1e7053e_06ea_11eb_bb39_0242ac1c0002row7_col0\" class=\"data row7 col0\" >-0.307802</td>\n",
              "                        <td id=\"T_f1e7053e_06ea_11eb_bb39_0242ac1c0002row7_col1\" class=\"data row7 col1\" >-0.135340</td>\n",
              "                        <td id=\"T_f1e7053e_06ea_11eb_bb39_0242ac1c0002row7_col2\" class=\"data row7 col2\" >-0.086646</td>\n",
              "                        <td id=\"T_f1e7053e_06ea_11eb_bb39_0242ac1c0002row7_col3\" class=\"data row7 col3\" >-0.092753</td>\n",
              "                        <td id=\"T_f1e7053e_06ea_11eb_bb39_0242ac1c0002row7_col4\" class=\"data row7 col4\" >-0.001601</td>\n",
              "                        <td id=\"T_f1e7053e_06ea_11eb_bb39_0242ac1c0002row7_col5\" class=\"data row7 col5\" >-0.097128</td>\n",
              "                        <td id=\"T_f1e7053e_06ea_11eb_bb39_0242ac1c0002row7_col6\" class=\"data row7 col6\" >-0.055060</td>\n",
              "                        <td id=\"T_f1e7053e_06ea_11eb_bb39_0242ac1c0002row7_col7\" class=\"data row7 col7\" >1.000000</td>\n",
              "            </tr>\n",
              "    </tbody></table>"
            ],
            "text/plain": [
              "<pandas.io.formats.style.Styler at 0x7f3255e58f98>"
            ]
          },
          "metadata": {
            "tags": []
          },
          "execution_count": 117
        }
      ]
    },
    {
      "cell_type": "code",
      "metadata": {
        "id": "UcZCUAR-XhEn",
        "outputId": "a4ee4962-412d-43a5-cf43-57cda205842d",
        "colab": {
          "base_uri": "https://localhost:8080/",
          "height": 385
        }
      },
      "source": [
        "sns.heatmap(df.corr())"
      ],
      "execution_count": 118,
      "outputs": [
        {
          "output_type": "execute_result",
          "data": {
            "text/plain": [
              "<matplotlib.axes._subplots.AxesSubplot at 0x7f3254af6358>"
            ]
          },
          "metadata": {
            "tags": []
          },
          "execution_count": 118
        },
        {
          "output_type": "display_data",
          "data": {
            "image/png": "[encoded data removed]",
            "text/plain": [
              "<Figure size 432x288 with 2 Axes>"
            ]
          },
          "metadata": {
            "tags": [],
            "needs_background": "light"
          }
        }
      ]
    },
    {
      "cell_type": "code",
      "metadata": {
        "id": "7dMDXZqvYjFK",
        "outputId": "ff08a0c1-c5a7-48fc-ec19-8e591ab5497c",
        "colab": {
          "base_uri": "https://localhost:8080/",
          "height": 381
        }
      },
      "source": [
        "df.corr()['breastCancer'].sort_values().plot(kind='bar')"
      ],
      "execution_count": 119,
      "outputs": [
        {
          "output_type": "execute_result",
          "data": {
            "text/plain": [
              "<matplotlib.axes._subplots.AxesSubplot at 0x7f3254969668>"
            ]
          },
          "metadata": {
            "tags": []
          },
          "execution_count": 119
        },
        {
          "output_type": "display_data",
          "data": {
            "image/png": "[encoded data removed]",
            "text/plain": [
              "<Figure size 432x288 with 1 Axes>"
            ]
          },
          "metadata": {
            "tags": [],
            "needs_background": "light"
          }
        }
      ]
    },
    {
      "cell_type": "code",
      "metadata": {
        "id": "688KGYVHYv31"
      },
      "source": [
        "X= df.drop('breastCancer',axis=1).values\n",
        "y=df['breastCancer'].values"
      ],
      "execution_count": 120,
      "outputs": []
    },
    {
      "cell_type": "code",
      "metadata": {
        "id": "g1rPPbcMZQAT"
      },
      "source": [
        "X_train, X_test, y_train, y_test = train_test_split(X, y, test_size=0.33, random_state=42)"
      ],
      "execution_count": 121,
      "outputs": []
    },
    {
      "cell_type": "code",
      "metadata": {
        "id": "BBeIRnfAZWmJ"
      },
      "source": [
        "from sklearn.preprocessing import MinMaxScaler"
      ],
      "execution_count": 122,
      "outputs": []
    },
    {
      "cell_type": "code",
      "metadata": {
        "id": "p128zukhZoMw"
      },
      "source": [
        "scaler = MinMaxScaler()"
      ],
      "execution_count": 123,
      "outputs": []
    },
    {
      "cell_type": "code",
      "metadata": {
        "id": "G1bHtT5VZqZd",
        "outputId": "0cfa86fd-0854-4c40-d1b9-8a933b41bcfb",
        "colab": {
          "base_uri": "https://localhost:8080/",
          "height": 33
        }
      },
      "source": [
        "scaler.fit(X_train)"
      ],
      "execution_count": 124,
      "outputs": [
        {
          "output_type": "execute_result",
          "data": {
            "text/plain": [
              "MinMaxScaler(copy=True, feature_range=(0, 1))"
            ]
          },
          "metadata": {
            "tags": []
          },
          "execution_count": 124
        }
      ]
    },
    {
      "cell_type": "code",
      "metadata": {
        "id": "pwDHm8JCZw8M"
      },
      "source": [
        "X_train=scaler.transform(X_train)\n",
        "X_test=scaler.transform(X_test)"
      ],
      "execution_count": 125,
      "outputs": []
    },
    {
      "cell_type": "code",
      "metadata": {
        "id": "Obb-_xzvbUVg",
        "outputId": "ea429608-71d6-4eae-b74d-8facf80a558a",
        "colab": {
          "base_uri": "https://localhost:8080/",
          "height": 33
        }
      },
      "source": [
        "X_train.shape"
      ],
      "execution_count": 126,
      "outputs": [
        {
          "output_type": "execute_result",
          "data": {
            "text/plain": [
              "(19473, 7)"
            ]
          },
          "metadata": {
            "tags": []
          },
          "execution_count": 126
        }
      ]
    },
    {
      "cell_type": "code",
      "metadata": {
        "id": "rETrq6h1bORu"
      },
      "source": [
        "import tensorflow as tf\n",
        "from tensorflow.keras.models import Sequential\n",
        "from tensorflow.keras.layers import Dense, Activation,Dropout\n",
        "from tensorflow.keras.callbacks import EarlyStopping"
      ],
      "execution_count": 127,
      "outputs": []
    },
    {
      "cell_type": "code",
      "metadata": {
        "id": "m6_iqYA-asgL"
      },
      "source": [
        "model = Sequential()\n",
        "\n",
        "model.add(Dense(units=7,activation='relu'))\n",
        "model.add(Dropout(0.5))\n",
        "model.add(Dense(units=7,activation='relu'))\n",
        "model.add(Dropout(0.5))\n",
        "model.add(Dense(units=1,activation='sigmoid'))\n",
        "\n",
        "# For a binary classification problem\n",
        "model.compile(loss='binary_crossentropy', optimizer='adam')"
      ],
      "execution_count": 128,
      "outputs": []
    },
    {
      "cell_type": "code",
      "metadata": {
        "id": "VpevIiFXbvo-"
      },
      "source": [
        "early_stop = EarlyStopping(monitor='loss', mode='min', verbose=1, patience=10)"
      ],
      "execution_count": 129,
      "outputs": []
    },
    {
      "cell_type": "code",
      "metadata": {
        "id": "Q84bD9qJbgIO",
        "outputId": "50894c15-e858-4f30-85a3-dcd4d3a5df90",
        "colab": {
          "base_uri": "https://localhost:8080/",
          "height": 1000
        }
      },
      "source": [
        "model.fit(x=X_train, \n",
        "          y=y_train, \n",
        "          epochs=600,\n",
        "          validation_data=(X_test, y_test), verbose=1,\n",
        "          callbacks=[early_stop]\n",
        "          )"
      ],
      "execution_count": 130,
      "outputs": [
        {
          "output_type": "stream",
          "text": [
            "Epoch 1/600\n",
            "609/609 [==============================] - 1s 2ms/step - loss: 0.5182 - val_loss: 0.4329\n",
            "Epoch 2/600\n",
            "609/609 [==============================] - 1s 1ms/step - loss: 0.4519 - val_loss: 0.4089\n",
            "Epoch 3/600\n",
            "609/609 [==============================] - 1s 1ms/step - loss: 0.4270 - val_loss: 0.3825\n",
            "Epoch 4/600\n",
            "609/609 [==============================] - 1s 1ms/step - loss: 0.4070 - val_loss: 0.3579\n",
            "Epoch 5/600\n",
            "609/609 [==============================] - 1s 1ms/step - loss: 0.3919 - val_loss: 0.3410\n",
            "Epoch 6/600\n",
            "609/609 [==============================] - 1s 1ms/step - loss: 0.3759 - val_loss: 0.3231\n",
            "Epoch 7/600\n",
            "609/609 [==============================] - 1s 1ms/step - loss: 0.3658 - val_loss: 0.3188\n",
            "Epoch 8/600\n",
            "609/609 [==============================] - 1s 1ms/step - loss: 0.3578 - val_loss: 0.3147\n",
            "Epoch 9/600\n",
            "609/609 [==============================] - 1s 1ms/step - loss: 0.3583 - val_loss: 0.3118\n",
            "Epoch 10/600\n",
            "609/609 [==============================] - 1s 1ms/step - loss: 0.3545 - val_loss: 0.3085\n",
            "Epoch 11/600\n",
            "609/609 [==============================] - 1s 1ms/step - loss: 0.3513 - val_loss: 0.3103\n",
            "Epoch 12/600\n",
            "609/609 [==============================] - 1s 1ms/step - loss: 0.3463 - val_loss: 0.3078\n",
            "Epoch 13/600\n",
            "609/609 [==============================] - 1s 1ms/step - loss: 0.3491 - val_loss: 0.3061\n",
            "Epoch 14/600\n",
            "609/609 [==============================] - 1s 1ms/step - loss: 0.3469 - val_loss: 0.3039\n",
            "Epoch 15/600\n",
            "609/609 [==============================] - 1s 1ms/step - loss: 0.3455 - val_loss: 0.3036\n",
            "Epoch 16/600\n",
            "609/609 [==============================] - 1s 1ms/step - loss: 0.3468 - val_loss: 0.3022\n",
            "Epoch 17/600\n",
            "609/609 [==============================] - 1s 1ms/step - loss: 0.3456 - val_loss: 0.3016\n",
            "Epoch 18/600\n",
            "609/609 [==============================] - 1s 1ms/step - loss: 0.3433 - val_loss: 0.2999\n",
            "Epoch 19/600\n",
            "609/609 [==============================] - 1s 1ms/step - loss: 0.3445 - val_loss: 0.2999\n",
            "Epoch 20/600\n",
            "609/609 [==============================] - 1s 1ms/step - loss: 0.3429 - val_loss: 0.2986\n",
            "Epoch 21/600\n",
            "609/609 [==============================] - 1s 1ms/step - loss: 0.3459 - val_loss: 0.2988\n",
            "Epoch 22/600\n",
            "609/609 [==============================] - 1s 1ms/step - loss: 0.3435 - val_loss: 0.2977\n",
            "Epoch 23/600\n",
            "609/609 [==============================] - 1s 1ms/step - loss: 0.3451 - val_loss: 0.2973\n",
            "Epoch 24/600\n",
            "609/609 [==============================] - 1s 1ms/step - loss: 0.3455 - val_loss: 0.2982\n",
            "Epoch 25/600\n",
            "609/609 [==============================] - 1s 1ms/step - loss: 0.3436 - val_loss: 0.2986\n",
            "Epoch 26/600\n",
            "609/609 [==============================] - 1s 1ms/step - loss: 0.3412 - val_loss: 0.2959\n",
            "Epoch 27/600\n",
            "609/609 [==============================] - 1s 1ms/step - loss: 0.3390 - val_loss: 0.2965\n",
            "Epoch 28/600\n",
            "609/609 [==============================] - 1s 1ms/step - loss: 0.3417 - val_loss: 0.2947\n",
            "Epoch 29/600\n",
            "609/609 [==============================] - 1s 1ms/step - loss: 0.3383 - val_loss: 0.2943\n",
            "Epoch 30/600\n",
            "609/609 [==============================] - 1s 1ms/step - loss: 0.3407 - val_loss: 0.2948\n",
            "Epoch 31/600\n",
            "609/609 [==============================] - 1s 1ms/step - loss: 0.3387 - val_loss: 0.2937\n",
            "Epoch 32/600\n",
            "609/609 [==============================] - 1s 1ms/step - loss: 0.3411 - val_loss: 0.2951\n",
            "Epoch 33/600\n",
            "609/609 [==============================] - 1s 1ms/step - loss: 0.3373 - val_loss: 0.2935\n",
            "Epoch 34/600\n",
            "609/609 [==============================] - 1s 1ms/step - loss: 0.3381 - val_loss: 0.2955\n",
            "Epoch 35/600\n",
            "609/609 [==============================] - 1s 2ms/step - loss: 0.3405 - val_loss: 0.2940\n",
            "Epoch 36/600\n",
            "609/609 [==============================] - 1s 1ms/step - loss: 0.3437 - val_loss: 0.2941\n",
            "Epoch 37/600\n",
            "609/609 [==============================] - 1s 1ms/step - loss: 0.3392 - val_loss: 0.2926\n",
            "Epoch 38/600\n",
            "609/609 [==============================] - 1s 1ms/step - loss: 0.3422 - val_loss: 0.2938\n",
            "Epoch 39/600\n",
            "609/609 [==============================] - 1s 1ms/step - loss: 0.3397 - val_loss: 0.2935\n",
            "Epoch 40/600\n",
            "609/609 [==============================] - 1s 1ms/step - loss: 0.3394 - val_loss: 0.2931\n",
            "Epoch 41/600\n",
            "609/609 [==============================] - 1s 1ms/step - loss: 0.3420 - val_loss: 0.2931\n",
            "Epoch 42/600\n",
            "609/609 [==============================] - 1s 1ms/step - loss: 0.3381 - val_loss: 0.2950\n",
            "Epoch 43/600\n",
            "609/609 [==============================] - 1s 1ms/step - loss: 0.3362 - val_loss: 0.2938\n",
            "Epoch 44/600\n",
            "609/609 [==============================] - 1s 1ms/step - loss: 0.3363 - val_loss: 0.2925\n",
            "Epoch 45/600\n",
            "609/609 [==============================] - 1s 1ms/step - loss: 0.3385 - val_loss: 0.2923\n",
            "Epoch 46/600\n",
            "609/609 [==============================] - 1s 1ms/step - loss: 0.3408 - val_loss: 0.2939\n",
            "Epoch 47/600\n",
            "609/609 [==============================] - 1s 1ms/step - loss: 0.3364 - val_loss: 0.2915\n",
            "Epoch 48/600\n",
            "609/609 [==============================] - 1s 2ms/step - loss: 0.3389 - val_loss: 0.2924\n",
            "Epoch 49/600\n",
            "609/609 [==============================] - 1s 2ms/step - loss: 0.3426 - val_loss: 0.2923\n",
            "Epoch 50/600\n",
            "609/609 [==============================] - 1s 2ms/step - loss: 0.3365 - val_loss: 0.2896\n",
            "Epoch 51/600\n",
            "609/609 [==============================] - 1s 2ms/step - loss: 0.3399 - val_loss: 0.2920\n",
            "Epoch 52/600\n",
            "609/609 [==============================] - 1s 2ms/step - loss: 0.3403 - val_loss: 0.2936\n",
            "Epoch 53/600\n",
            "609/609 [==============================] - 1s 2ms/step - loss: 0.3398 - val_loss: 0.2918\n",
            "Epoch 00053: early stopping\n"
          ],
          "name": "stdout"
        },
        {
          "output_type": "execute_result",
          "data": {
            "text/plain": [
              "<tensorflow.python.keras.callbacks.History at 0x7f32549007f0>"
            ]
          },
          "metadata": {
            "tags": []
          },
          "execution_count": 130
        }
      ]
    },
    {
      "cell_type": "code",
      "metadata": {
        "id": "5Tf44q9rbhAf",
        "outputId": "9f66e389-a670-4137-fa38-bacab59ae318",
        "colab": {
          "base_uri": "https://localhost:8080/",
          "height": 281
        }
      },
      "source": [
        "model_loss = pd.DataFrame(model.history.history)\n",
        "model_loss.plot()"
      ],
      "execution_count": 131,
      "outputs": [
        {
          "output_type": "execute_result",
          "data": {
            "text/plain": [
              "<matplotlib.axes._subplots.AxesSubplot at 0x7f3254813d68>"
            ]
          },
          "metadata": {
            "tags": []
          },
          "execution_count": 131
        },
        {
          "output_type": "display_data",
          "data": {
            "image/png": "[encoded data removed]",
            "text/plain": [
              "<Figure size 432x288 with 1 Axes>"
            ]
          },
          "metadata": {
            "tags": [],
            "needs_background": "light"
          }
        }
      ]
    },
    {
      "cell_type": "code",
      "metadata": {
        "id": "02_ZgmwMcDvM",
        "outputId": "7b441f83-f173-4f30-8447-4b81c92ef0be",
        "colab": {
          "base_uri": "https://localhost:8080/",
          "height": 163
        }
      },
      "source": [
        "from sklearn.metrics import classification_report,confusion_matrix\n",
        "\n",
        "\n",
        "predictions = model.predict_classes(X_test)\n",
        "print(classification_report(y_test,predictions))"
      ],
      "execution_count": 132,
      "outputs": [
        {
          "output_type": "stream",
          "text": [
            "              precision    recall  f1-score   support\n",
            "\n",
            "           0       0.86      0.98      0.91      7859\n",
            "           1       0.73      0.28      0.41      1733\n",
            "\n",
            "    accuracy                           0.85      9592\n",
            "   macro avg       0.79      0.63      0.66      9592\n",
            "weighted avg       0.84      0.85      0.82      9592\n",
            "\n"
          ],
          "name": "stdout"
        }
      ]
    },
    {
      "cell_type": "code",
      "metadata": {
        "id": "drMRjFdLcKub",
        "outputId": "7c83c07c-2de6-40d3-956d-bd3e9ce6816e",
        "colab": {
          "base_uri": "https://localhost:8080/",
          "height": 50
        }
      },
      "source": [
        "print(confusion_matrix(y_test,predictions))"
      ],
      "execution_count": 133,
      "outputs": [
        {
          "output_type": "stream",
          "text": [
            "[[7676  183]\n",
            " [1246  487]]\n"
          ],
          "name": "stdout"
        }
      ]
    },
    {
      "cell_type": "code",
      "metadata": {
        "id": "7F52WZexm1NF"
      },
      "source": [
        "model.save('cancer_prediction.h5')"
      ],
      "execution_count": 134,
      "outputs": []
    },
    {
      "cell_type": "code",
      "metadata": {
        "id": "ehjJgZQ0f45n",
        "outputId": "1f6a50e1-fe98-4d0f-bf89-3b03a71fcd8c",
        "colab": {
          "base_uri": "https://localhost:8080/",
          "height": 33
        }
      },
      "source": [
        "import random\n",
        "random.seed(342342344)\n",
        "random_ind = random.randint(0,len(df))\n",
        "\n",
        "test_user = df.drop('breastCancer',axis=1).iloc[random_ind]\n",
        "type(test_user)"
      ],
      "execution_count": 135,
      "outputs": [
        {
          "output_type": "execute_result",
          "data": {
            "text/plain": [
              "pandas.core.series.Series"
            ]
          },
          "metadata": {
            "tags": []
          },
          "execution_count": 135
        }
      ]
    },
    {
      "cell_type": "code",
      "metadata": {
        "id": "ev2cOSqugGjo",
        "outputId": "9f8c676b-f6b7-46d5-af42-f65dca93cb1d",
        "colab": {
          "base_uri": "https://localhost:8080/",
          "height": 33
        }
      },
      "source": [
        "model.predict_classes(scaler.transform(test_user.values.reshape(1,7)))"
      ],
      "execution_count": 137,
      "outputs": [
        {
          "output_type": "execute_result",
          "data": {
            "text/plain": [
              "array([[1]], dtype=int32)"
            ]
          },
          "metadata": {
            "tags": []
          },
          "execution_count": 137
        }
      ]
    },
    {
      "cell_type": "code",
      "metadata": {
        "id": "welHoTt9gPNM",
        "outputId": "b33f461f-f92e-4168-92af-4f3288ade17e",
        "colab": {
          "base_uri": "https://localhost:8080/",
          "height": 33
        }
      },
      "source": [
        "df.iloc[random_ind]['breastCancer']"
      ],
      "execution_count": 138,
      "outputs": [
        {
          "output_type": "execute_result",
          "data": {
            "text/plain": [
              "1.0"
            ]
          },
          "metadata": {
            "tags": []
          },
          "execution_count": 138
        }
      ]
    },
    {
      "cell_type": "code",
      "metadata": {
        "id": "y47R1beagZSV",
        "outputId": "b3ca4e7c-82c9-487d-f749-0c28b7f0b13c",
        "colab": {
          "base_uri": "https://localhost:8080/",
          "height": 163
        }
      },
      "source": [
        "df.iloc[random_ind]"
      ],
      "execution_count": 139,
      "outputs": [
        {
          "output_type": "execute_result",
          "data": {
            "text/plain": [
              "breastCancer             1.000000\n",
              "age                     54.000000\n",
              "pollution (ppm)        219.670000\n",
              "humidity                29.400000\n",
              "temprature              22.831123\n",
              "ever_married_en          1.000000\n",
              "residence_en             1.000000\n",
              "smoke_status_encode      0.224256\n",
              "Name: 2567, dtype: float64"
            ]
          },
          "metadata": {
            "tags": []
          },
          "execution_count": 139
        }
      ]
    },
    {
      "cell_type": "code",
      "metadata": {
        "id": "x3gmqFydiPCQ"
      },
      "source": [
        ""
      ],
      "execution_count": null,
      "outputs": []
    }
  ]
}